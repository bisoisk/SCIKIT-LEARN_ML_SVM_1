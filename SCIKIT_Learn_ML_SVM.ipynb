{
 "cells": [
  {
   "cell_type": "markdown",
   "metadata": {},
   "source": [
    "##### SCIKIT Learn machine Learning wth SVM Algorithm.\n",
    "What is SVM?\n",
    "Ans-Support vector machines (SVMs) are a set of supervised learning methods used for classification, regression and outliers detection.\n",
    "\n",
    "Here we have some digits in the data set and we will predict how much corectly we are predicting...\n",
    "\n",
    "\n",
    "Here prerequistes as matplotlib and sklearn.So first set the environment .If u setting environment with Anaconda then use \"conda\" install command otherwise use \"pip\" install command for python interpreter/Shell as IDE.\n",
    "\n",
    "Here i am using Anaconda environment for my devlopment and practice with jupyter notebbok as IDE.\n",
    "\n",
    "to install in the conda environment use script in Anaconda environment as \n",
    "\"conda install scikit-learn\".After that restart the kernel in the conda environment.\n",
    "the easiest way to install scikit-learn is using pip for standard python installation process by using below command.\n",
    "\"pip install -U scikit-learn\"\n",
    "\n",
    "Similarly use command \"python -m pip install matplotlib\" for installing matplotlib for standard python installation \n",
    "\n",
    "matplot lib is coming as in built in Anaconda and enthough ..so for more details follow below link to check the installation..\n",
    "https://matplotlib.org/users/installing.html\n",
    "\n"
   ]
  },
  {
   "cell_type": "code",
   "execution_count": 134,
   "metadata": {
    "collapsed": false
   },
   "outputs": [],
   "source": [
    "import matplotlib.pyplot as plt\n",
    "\n",
    "from sklearn import datasets\n",
    "from sklearn import svm\n"
   ]
  },
  {
   "cell_type": "code",
   "execution_count": 135,
   "metadata": {
    "collapsed": false
   },
   "outputs": [],
   "source": [
    "digits=datasets.load_digits()"
   ]
  },
  {
   "cell_type": "code",
   "execution_count": 136,
   "metadata": {
    "collapsed": false
   },
   "outputs": [
    {
     "name": "stdout",
     "output_type": "stream",
     "text": [
      "[[  0.   0.   5. ...,   0.   0.   0.]\n",
      " [  0.   0.   0. ...,  10.   0.   0.]\n",
      " [  0.   0.   0. ...,  16.   9.   0.]\n",
      " ..., \n",
      " [  0.   0.   1. ...,   6.   0.   0.]\n",
      " [  0.   0.   2. ...,  12.   0.   0.]\n",
      " [  0.   0.  10. ...,  12.   1.   0.]]\n"
     ]
    }
   ],
   "source": [
    "print(digits.data)"
   ]
  },
  {
   "cell_type": "code",
   "execution_count": 137,
   "metadata": {
    "collapsed": false
   },
   "outputs": [
    {
     "name": "stdout",
     "output_type": "stream",
     "text": [
      "[0 1 2 ..., 8 9 8]\n"
     ]
    }
   ],
   "source": [
    "print(digits.target)\n",
    "# what do you mean by target??"
   ]
  },
  {
   "cell_type": "code",
   "execution_count": 138,
   "metadata": {
    "collapsed": false
   },
   "outputs": [
    {
     "name": "stdout",
     "output_type": "stream",
     "text": [
      "[[  0.   0.   5.  13.   9.   1.   0.   0.]\n",
      " [  0.   0.  13.  15.  10.  15.   5.   0.]\n",
      " [  0.   3.  15.   2.   0.  11.   8.   0.]\n",
      " [  0.   4.  12.   0.   0.   8.   8.   0.]\n",
      " [  0.   5.   8.   0.   0.   9.   8.   0.]\n",
      " [  0.   4.  11.   0.   1.  12.   7.   0.]\n",
      " [  0.   2.  14.   5.  10.  12.   0.   0.]\n",
      " [  0.   0.   6.  13.  10.   0.   0.   0.]]\n"
     ]
    }
   ],
   "source": [
    "print(digits.images[0])\n",
    "\n",
    "#How this print images working for array 0 ??"
   ]
  },
  {
   "cell_type": "code",
   "execution_count": 139,
   "metadata": {
    "collapsed": false
   },
   "outputs": [
    {
     "name": "stdout",
     "output_type": "stream",
     "text": [
      "[[  0.   0.   0.  12.  13.   5.   0.   0.]\n",
      " [  0.   0.   0.  11.  16.   9.   0.   0.]\n",
      " [  0.   0.   3.  15.  16.   6.   0.   0.]\n",
      " [  0.   7.  15.  16.  16.   2.   0.   0.]\n",
      " [  0.   0.   1.  16.  16.   3.   0.   0.]\n",
      " [  0.   0.   1.  16.  16.   6.   0.   0.]\n",
      " [  0.   0.   1.  16.  16.   6.   0.   0.]\n",
      " [  0.   0.   0.  11.  16.  10.   0.   0.]]\n"
     ]
    }
   ],
   "source": [
    "print(digits.images[1])\n",
    "\n",
    "#How this print images working for array 1??"
   ]
  },
  {
   "cell_type": "markdown",
   "metadata": {
    "collapsed": true
   },
   "source": [
    "Everything should be normalise the data in numerical forms to digits....\n",
    "clf-Classifer\n",
    "svm-support vector machine\n",
    "SVC\n",
    "gamma====gradient descent values....rate\n",
    "C=100\n",
    "\n",
    "ther is some functionality in the scikit learn to get gamma value automatically\n",
    "\n"
   ]
  },
  {
   "cell_type": "code",
   "execution_count": 140,
   "metadata": {
    "collapsed": false
   },
   "outputs": [
    {
     "name": "stdout",
     "output_type": "stream",
     "text": [
      "1797\n"
     ]
    }
   ],
   "source": [
    "#clf=svm.SVC(gamma=0.001,C=100)\n",
    "#what is gamma here???\n",
    "#is gamma related to gradient descent?..According to gamma values,prediction will be more accurate...\n",
    "#gamma is the  how fast or slow going to get the gradient descent value.We need gradient descent\n",
    "#to get the optium solution we should go the lowest point of the gradient descent ...\n",
    "#But to get the gradient descent u can go as vey slow or very fast ...but there is chance of jumping the optium solution\\\n",
    "#as if u go very fast..very big value of gamma indiacates going/jumping so fast..\n",
    "clf=svm.SVC(gamma=0.0001,C=100)\n",
    "print(len(digits.data))"
   ]
  },
  {
   "cell_type": "code",
   "execution_count": 141,
   "metadata": {
    "collapsed": false
   },
   "outputs": [
    {
     "data": {
      "text/plain": [
       "SVC(C=100, cache_size=200, class_weight=None, coef0=0.0,\n",
       "  decision_function_shape=None, degree=3, gamma=0.0001, kernel='rbf',\n",
       "  max_iter=-1, probability=False, random_state=None, shrinking=True,\n",
       "  tol=0.001, verbose=False)"
      ]
     },
     "execution_count": 141,
     "metadata": {},
     "output_type": "execute_result"
    }
   ],
   "source": [
    "#This is training set...\n",
    "#x,y=digits.data[:-1],digits.target[:-1]\n",
    "x,y=digits.data[:-10],digits.target[:-10]\n",
    "clf.fit(x,y)\n",
    "\n",
    "#there is two types of fit ,one is call overfit and fit..\n"
   ]
  },
  {
   "cell_type": "code",
   "execution_count": 142,
   "metadata": {
    "collapsed": false
   },
   "outputs": [
    {
     "name": "stdout",
     "output_type": "stream",
     "text": [
      "Prediction: [4]\n"
     ]
    },
    {
     "name": "stderr",
     "output_type": "stream",
     "text": [
      "C:\\ProgramData\\Anaconda3\\envs\\dlnd\\lib\\site-packages\\sklearn\\utils\\validation.py:395: DeprecationWarning: Passing 1d arrays as data is deprecated in 0.17 and will raise ValueError in 0.19. Reshape your data either using X.reshape(-1, 1) if your data has a single feature or X.reshape(1, -1) if it contains a single sample.\n",
      "  DeprecationWarning)\n"
     ]
    }
   ],
   "source": [
    "#print('Prediction:' ,clf.predict(digits.data[-2]))\n",
    "#print('Prediction:' ,clf.predict(digits.data[-4]))\n",
    "print('Prediction:' ,clf.predict(digits.data[-6]))"
   ]
  },
  {
   "cell_type": "code",
   "execution_count": 143,
   "metadata": {
    "collapsed": false
   },
   "outputs": [
    {
     "data": {
      "image/png": "[encoded data removed]",
      "text/plain": [
       "<matplotlib.figure.Figure at 0x1cd2390c240>"
      ]
     },
     "metadata": {},
     "output_type": "display_data"
    }
   ],
   "source": [
    "#plt.imshow(digits.images[-2],cmap=plt.cm.gray_r,interpolation=\"nearest\")\n",
    "#plt.imshow(digits.images[-4],cmap=plt.cm.gray_r,interpolation=\"nearest\")\n",
    "plt.imshow(digits.images[-6],cmap=plt.cm.gray_r,interpolation=\"nearest\")\n",
    "plt.show()"
   ]
  }
 ],
 "metadata": {
  "kernelspec": {
   "display_name": "Python 3",
   "language": "python",
   "name": "python3"
  },
  "language_info": {
   "codemirror_mode": {
    "name": "ipython",
    "version": 3
   },
   "file_extension": ".py",
   "mimetype": "text/x-python",
   "name": "python",
   "nbconvert_exporter": "python",
   "pygments_lexer": "ipython3",
   "version": "3.6.0"
  }
 },
 "nbformat": 4,
 "nbformat_minor": 2
}
